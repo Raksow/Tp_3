{
 "cells": [
  {
   "cell_type": "markdown",
   "id": "ce2f1514-8ff5-4782-9520-1151f0e1e908",
   "metadata": {},
   "source": [
    "# TECHNIKI PROGRAMOWANIA - PROJEKT 3\n",
    "### OSKAR WĘDOŁOWSKI 197563\n",
    "### SZYMON TOMASZEWICZ 19XXXX\n",
    "\n",
    "#### W naszym projekcie wykorzystaliśmy następujące biblioteki:\n",
    "- matplotpluplus (c++)\n",
    "- pybind11 (c++)\n",
    "- soundfile (python)\n",
    "- time (python)\n",
    "- IPython.display (do wyświetlania audio)"
   ]
  },
  {
   "cell_type": "code",
   "execution_count": 1,
   "id": "72371157-ab0e-42bb-9116-fe2a4e17df8c",
   "metadata": {},
   "outputs": [],
   "source": [
    "import tp_3\n",
    "import soundfile as sf\n",
    "import time\n",
    "import IPython.display as ipd"
   ]
  },
  {
   "cell_type": "markdown",
   "id": "86021c3b-659d-440a-8633-ae96acf1f944",
   "metadata": {},
   "source": [
    "## Wizualizacja wykresu sygnałów\n",
    "#### Przykłady sygnałów sinusa, cosinusa, piłokształtnego, prostokątnego o zadanej częstotliwości"
   ]
  },
  {
   "cell_type": "code",
   "execution_count": 2,
   "id": "0fa69b90-4369-4801-ac40-d7c0468667a5",
   "metadata": {},
   "outputs": [
    {
     "name": "stdout",
     "output_type": "stream",
     "text": [
      "Press ENTER to continue...Press ENTER to continue...Press ENTER to continue...Press ENTER to continue..."
     ]
    },
    {
     "name": "stderr",
     "output_type": "stream",
     "text": [
      "MESA: error: ZINK: failed to choose pdev\n",
      "glx: failed to create drisw screen\n"
     ]
    }
   ],
   "source": [
    "freq = 10\n",
    "\n",
    "cosine = tp_3.vector_float()\n",
    "cosine = tp_3.cosinus(freq, \"signal_cosine_10.jpg\")\n",
    "\n",
    "sine = tp_3.vector_float()\n",
    "sine = tp_3.sinus(freq, \"signal_sine_10.jpg\")\n",
    "\n",
    "pila = tp_3.vector_float()\n",
    "pila = tp_3.piloksztaltny(freq, \"signal_pila_10.jpg\")\n",
    "\n",
    "prostokatny = tp_3.vector_float()\n",
    "prostokatny = tp_3.prostokatny(freq, \"signal_square_10.jpg\")"
   ]
  },
  {
   "cell_type": "markdown",
   "id": "260d2542-6ca9-4aea-ad2d-1f8de0e17760",
   "metadata": {},
   "source": [
    "#### Sygnał cosinusa:\n",
    "\"![cosine](signal_cosine_10.jpg)\"\n",
    "#### Sygnał sinusa:\n",
    "\"![sine](signal_sine_10.jpg)\"\n",
    "#### Sygnał piłokształtny:\n",
    "\"![pila](signal_pila_10.jpg)\"\n",
    "#### Sygnał prostokątny:\n",
    "\"![square](signal_square_10.jpg)\""
   ]
  },
  {
   "cell_type": "markdown",
   "id": "aa0ce727-1b97-4e6a-8638-58e4a2a2844e",
   "metadata": {},
   "source": [
    "## Wizualizacja DFT oraz IDFT\n",
    "### Z wykorzystaniem sygnału cosinusa"
   ]
  },
  {
   "cell_type": "code",
   "execution_count": 3,
   "id": "fa478caa-8e35-4a4f-80b9-1f0ef092dcba",
   "metadata": {},
   "outputs": [
    {
     "name": "stdout",
     "output_type": "stream",
     "text": [
      "Press ENTER to continue...Press ENTER to continue..."
     ]
    }
   ],
   "source": [
    "cosine_dft = tp_3.vector_complex()\n",
    "cosine_idft = tp_3.vector_float()\n",
    "\n",
    "cosine_dft = tp_3.dft(cosine, \"signal_cosine_dft.jpg\") # pamietac o zmianie signals na dft (w cpp)\n",
    "cosine_idft = tp_3.idft(cosine_dft, \"signal_cosine_idft.jpg\")"
   ]
  },
  {
   "cell_type": "markdown",
   "id": "6e5e3156-15d2-494b-adb2-02144b9dc09d",
   "metadata": {},
   "source": [
    "#### Sygnał DFT cosinusa (10Hz):\n",
    "\"![cosine_dft](signal_cosine_dft.jpg)\"\n",
    "#### Sygnał IDFT cosinusa:\n",
    "\"![cosine_idft](signal_cosine_idft.jpg)\""
   ]
  },
  {
   "cell_type": "markdown",
   "id": "be00afa6-826f-46cf-b1f5-eeec9bba5eaf",
   "metadata": {},
   "source": [
    "## Wizualizacja DFT oraz IDFT\n",
    "### z wykorzystaniem pliku dźwiękowego"
   ]
  },
  {
   "cell_type": "code",
   "execution_count": 4,
   "id": "cb8f8a30-9bb5-4796-89e2-eef5f94f9631",
   "metadata": {},
   "outputs": [
    {
     "name": "stdout",
     "output_type": "stream",
     "text": [
      "Press ENTER to continue...Press ENTER to continue...Press ENTER to continue..."
     ]
    }
   ],
   "source": [
    "audio_signal = tp_3.vector_float()\n",
    "audio_signal_dft = tp_3.vector_complex()\n",
    "audio_signal.clear()\n",
    "audio_signal_dft.clear()\n",
    "\n",
    "audio_path = 'w_scream.wav'\n",
    "signal, sr = sf.read(audio_path)\n",
    "\n",
    "n = len(signal)\n",
    "\n",
    "for i in range(len(signal)):\n",
    "    audio_signal.push_back(signal[i, 0])                                #sygnał do dft i pozniej do idft z audio + audio zapisane po idft\n",
    "    \n",
    "tp_3.print_signal(audio_signal, \"signal_audio.jpg\")\n",
    "\n",
    "audio_signal_dft = tp_3.dft(audio_signal, \"signal_audio_dft.jpg\") #pamietac o jpg\n",
    "\n",
    "audio_signal = tp_3.idft(audio_signal_dft, \"signal_audio_idft.jpg\") #pamietac o jpg\n",
    "\n",
    "signal[:len(signal)] = 0\n",
    "\n",
    "for i in range(n):\n",
    "    signal[i, 0] = audio_signal.back()\n",
    "    signal[i, 1] = audio_signal.back()\n",
    "    audio_signal.pop_back()\n",
    "\n",
    "sf.write(\"w_scream_idft.wav\", signal, sr)\n",
    "#ipd.Audio('w_scream_idft.wav')"
   ]
  },
  {
   "cell_type": "markdown",
   "id": "95d94e4b-ddba-486b-b7eb-d5f1076d598d",
   "metadata": {},
   "source": [
    "### sygnał pliku audio:\n",
    "\"![audio_signal](signal_audio.jpg)\"\n",
    "### sygnał DFT pliku audio:\n",
    "\"![audio_dft](signal_audio_dft.jpg)\"\n",
    "### sygnał IDFT pliku audio:\n",
    "\"![audio_idft](signal_audio_idft.jpg)\""
   ]
  },
  {
   "cell_type": "markdown",
   "id": "2a1962ee-083a-47b8-a3ff-86687c7d1876",
   "metadata": {},
   "source": [
    "## Wizualizacja pochodnej sygnału\n",
    "### z wykorzystaniem cosinusa"
   ]
  },
  {
   "cell_type": "code",
   "execution_count": 5,
   "id": "dd830cbe-8fec-4d0f-953e-db792e41812e",
   "metadata": {},
   "outputs": [
    {
     "name": "stdout",
     "output_type": "stream",
     "text": [
      "Press ENTER to continue..."
     ]
    }
   ],
   "source": [
    "sine_dt = tp_3.vector_float()\n",
    "time.sleep(3)                                                         #pochodna sygnalu\n",
    "\n",
    "sine_dt = tp_3.pochodna_sygnalu(cosine, \"signal_cosine_dv.jpg\")"
   ]
  },
  {
   "cell_type": "markdown",
   "id": "0e7b02c4-34d6-4859-a958-71426c4be9ed",
   "metadata": {},
   "source": [
    "### sygnał cosinusa (10Hz):\n",
    "\"![cosine_signal](signal_cosine_10.jpg)\"\n",
    "### sygnał pochodnej cosinusa:\n",
    "\"![cosine_dv_signal](signal_cosine_dv.jpg)\""
   ]
  },
  {
   "cell_type": "markdown",
   "id": "c0357d6a-a542-46c0-9a2a-f795fa2ab515",
   "metadata": {},
   "source": [
    "## Wizualizacja pochodnej sygnału\n",
    "### z wykorzystaniem pliku audio"
   ]
  },
  {
   "cell_type": "code",
   "execution_count": 6,
   "id": "ec251004-eed4-4d25-8d03-d070b5722109",
   "metadata": {},
   "outputs": [
    {
     "name": "stdout",
     "output_type": "stream",
     "text": [
      "Press ENTER to continue...Press ENTER to continue..."
     ]
    }
   ],
   "source": [
    "audio_signal.clear()\n",
    "audio_signal_dv = tp_3.vector_float()\n",
    "\n",
    "audio_path = 'sine_wave.wav'\n",
    "signal1, sr1 = sf.read(audio_path)\n",
    "\n",
    "n = len(signal1)\n",
    "\n",
    "for i in range(n):\n",
    "    audio_signal.push_back(signal1[i])                                #sygnał do pochodnej + zapis dziweku\n",
    "\n",
    "time.sleep(3)\n",
    "tp_3.print_signal(audio_signal, \"signal_audio_2.jpg\")\n",
    "\n",
    "audio_signal_dv = tp_3.pochodna_sygnalu(audio_signal, \"signal_audio_dv.jpg\")\n",
    "time.sleep(3)\n",
    "\n",
    "signal1[:len(signal1)] = 0\n",
    "\n",
    "for i in range(n):\n",
    "    signal1[i] = audio_signal_dv.back()\n",
    "    audio_signal_dv.pop_back()\n",
    "time.sleep(3)\n",
    "\n",
    "sf.write(\"sine_wave_dv.wav\", signal1, sr1)"
   ]
  },
  {
   "cell_type": "markdown",
   "id": "5ae2fbd4-a2e8-4121-a6f3-72f9ea3c11bb",
   "metadata": {},
   "source": [
    "<audio controls>\n",
    "  <source src=\"sine_wave.wav\" type=\"audio/wav\">\n",
    "  Twoja przeglądarka nie może otworzyć tego pliku.\n",
    "</audio>"
   ]
  },
  {
   "cell_type": "markdown",
   "id": "2124b3a0-a77a-45a4-a05e-fa524c6920b5",
   "metadata": {},
   "source": [
    "### sygnał pliku audio:\n",
    "\"![audio_signal](signal_audio_2.jpg)\"\n",
    "#### (przybliżony)\n",
    "\"![audio_signal](signal_audio_2_close.jpg)\"\n",
    "\n",
    "### sygnał pochodnej pliku audio:\n",
    "\"![audio_signal](signal_audio_dv.jpg)\"\n",
    "#### (przbliżony)\n",
    "\"![audio_signal](signal_audio_dv_close.jpg)\""
   ]
  },
  {
   "cell_type": "code",
   "execution_count": null,
   "id": "5940ece0-cfdd-4fc8-933a-67bc5c14323e",
   "metadata": {},
   "outputs": [],
   "source": []
  }
 ],
 "metadata": {
  "kernelspec": {
   "display_name": "Python 3 (ipykernel)",
   "language": "python",
   "name": "python3"
  },
  "language_info": {
   "codemirror_mode": {
    "name": "ipython",
    "version": 3
   },
   "file_extension": ".py",
   "mimetype": "text/x-python",
   "name": "python",
   "nbconvert_exporter": "python",
   "pygments_lexer": "ipython3",
   "version": "3.12.3"
  }
 },
 "nbformat": 4,
 "nbformat_minor": 5
}
